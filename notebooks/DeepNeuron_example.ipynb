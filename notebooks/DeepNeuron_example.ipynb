{
 "cells": [
  {
   "cell_type": "code",
   "execution_count": 1,
   "id": "300d529d",
   "metadata": {},
   "outputs": [
    {
     "name": "stderr",
     "output_type": "stream",
     "text": [
      "/home/camiel/anaconda3/envs/fetal_brain_multiomics/lib/python3.7/site-packages/tqdm/auto.py:21: TqdmWarning: IProgress not found. Please update jupyter and ipywidgets. See https://ipywidgets.readthedocs.io/en/stable/user_install.html\n",
      "  from .autonotebook import tqdm as notebook_tqdm\n",
      "/home/camiel/anaconda3/envs/fetal_brain_multiomics/lib/python3.7/site-packages/numba/np/ufunc/parallel.py:363: NumbaWarning: The TBB threading layer requires TBB version 2019.5 or later i.e., TBB_INTERFACE_VERSION >= 11005. Found TBB_INTERFACE_VERSION = 10002. The TBB threading layer is disabled.\n",
      "  warnings.warn(problem)\n"
     ]
    }
   ],
   "source": [
    "## Import\n",
    "import os\n",
    "from fetalxbrainxmultiomics.deepNeuron.model import ConvolutionalClassificationModel\n",
    "from fetalxbrainxmultiomics.deepNeuron.utils import *\n",
    "import torch\n",
    "from torch import nn\n",
    "import numpy as np\n",
    "\n",
    "import matplotlib.pyplot as plt"
   ]
  },
  {
   "cell_type": "markdown",
   "id": "a2271d10",
   "metadata": {},
   "source": [
    "## 1a. How to load the trained model"
   ]
  },
  {
   "cell_type": "code",
   "execution_count": 2,
   "id": "51c4b513",
   "metadata": {},
   "outputs": [
    {
     "data": {
      "text/plain": [
       "ConvolutionalClassificationModel(\n",
       "  (cnn): Sequential(\n",
       "    (0): Conv1d(4, 256, kernel_size=(7,), stride=(1,), padding=same)\n",
       "    (1): BatchNorm1d(256, eps=1e-05, momentum=0.1, affine=True, track_running_stats=True)\n",
       "    (2): ReLU()\n",
       "    (3): MaxPool1d(kernel_size=2, stride=2, padding=0, dilation=1, ceil_mode=False)\n",
       "    (4): Conv1d(256, 60, kernel_size=(3,), stride=(1,), padding=same)\n",
       "    (5): BatchNorm1d(60, eps=1e-05, momentum=0.1, affine=True, track_running_stats=True)\n",
       "    (6): ReLU()\n",
       "    (7): MaxPool1d(kernel_size=2, stride=2, padding=0, dilation=1, ceil_mode=False)\n",
       "    (8): Conv1d(60, 60, kernel_size=(5,), stride=(1,), padding=same)\n",
       "    (9): BatchNorm1d(60, eps=1e-05, momentum=0.1, affine=True, track_running_stats=True)\n",
       "    (10): ReLU()\n",
       "    (11): MaxPool1d(kernel_size=2, stride=2, padding=0, dilation=1, ceil_mode=False)\n",
       "    (12): Conv1d(60, 120, kernel_size=(3,), stride=(1,), padding=same)\n",
       "    (13): BatchNorm1d(120, eps=1e-05, momentum=0.1, affine=True, track_running_stats=True)\n",
       "    (14): ReLU()\n",
       "    (15): MaxPool1d(kernel_size=2, stride=2, padding=0, dilation=1, ceil_mode=False)\n",
       "    (16): Flatten(start_dim=1, end_dim=-1)\n",
       "    (17): Linear(in_features=3000, out_features=256, bias=True)\n",
       "    (18): BatchNorm1d(256, eps=1e-05, momentum=0.1, affine=True, track_running_stats=True)\n",
       "    (19): ReLU()\n",
       "    (20): Dropout(p=0.4, inplace=False)\n",
       "    (21): Linear(in_features=256, out_features=256, bias=True)\n",
       "    (22): BatchNorm1d(256, eps=1e-05, momentum=0.1, affine=True, track_running_stats=True)\n",
       "    (23): ReLU()\n",
       "    (24): Dropout(p=0.4, inplace=False)\n",
       "    (25): Linear(in_features=256, out_features=5, bias=True)\n",
       "    (26): Softmax(dim=-1)\n",
       "  )\n",
       "  (loss): CrossEntropyLoss()\n",
       ")"
      ]
     },
     "execution_count": 2,
     "metadata": {},
     "output_type": "execute_result"
    }
   ],
   "source": [
    "model = ConvolutionalClassificationModel(n_celltypes=5, length=401)\n",
    "model.load_state_dict(torch.load('../fetalxbrainxmultiomics/deepNeuron/DeepNeuron.pth'))\n",
    "model.eval()\n",
    "\n",
    "# model(pred_sequences).detach().numpy() ## Your pred_sequences have to be in a torch tensor size [N sequences,4, length sequence] (one-hot encoded ACGT)"
   ]
  },
  {
   "cell_type": "markdown",
   "id": "fc0da7a9",
   "metadata": {},
   "source": [
    "## 1b. How to train a new  model"
   ]
  },
  {
   "cell_type": "markdown",
   "id": "23501c0f",
   "metadata": {},
   "source": [
    "If you want to apply the model to a different organism/cell types you will need to retrain it, but you can of course use the architecture as we have it outlined here. \n",
    "\n",
    "Below is the python script we use for training. \n",
    "\n",
    "Your traning/validation data should be a list of enhancers in the form below where every entry is a tuple of an enhancer + label:\n",
    "\n",
    "```\n",
    "(torch.tensor(enhancer.astype(‘float32’), torch.tensor(label.astype(‘float32’))) ## enhancer shape [4,length]\n",
    "```\n",
    "\n",
    "While you can train the model from this  notebook, I recommend running this as a seperate script as it can sometimes take some time to finish training."
   ]
  },
  {
   "cell_type": "code",
   "execution_count": null,
   "id": "0b1d2304",
   "metadata": {},
   "outputs": [],
   "source": [
    "# Model based on convolutional layers\n",
    "import sys\n",
    "from typing import Tuple, Any, Optional\n",
    "from fetalxbrainxmultiomics.deepNeuron.model import ConvolutionalClassificationModel\n",
    "import os\n",
    "import torch\n",
    "from torch import nn\n",
    "from torch.utils.data import DataLoader\n",
    "import pytorch_lightning as pl\n",
    "from pytorch_lightning import Trainer\n",
    "from pytorch_lightning.loggers import TensorBoardLogger\n",
    "from pytorch_lightning.callbacks.early_stopping import EarlyStopping\n",
    "from Bio import motifs\n",
    "import numpy as np\n",
    "import logging\n",
    " \n",
    "smooth = .1\n",
    "dropout = .4\n",
    " \n",
    "# Loading saved data\n",
    "train_data = torch.load(f'torch_data/training_set.pt')\n",
    "test_data = torch.load(f'torch_data/test_set.pt')\n",
    "out_file = 'model.pth'\n",
    " \n",
    "# Using dataloader for easy imput of data into the Deep Learning network\n",
    "train_loader = DataLoader(train_data, batch_size=256, shuffle=True)\n",
    "test_loader = DataLoader(test_data, batch_size=256, shuffle=False)\n",
    " \n",
    "logging.info(f\"Label smoothing: {smooth}\")\n",
    "# Asigning model parameters, logger(using tensorboard on server to assess running metrics)\n",
    "model = ConvolutionalClassificationModel(n_celltypes=5, length=train_data[0][0].shape[1], dense=256, dropout=dropout, label_smoothing= smooth)\n",
    "logger = TensorBoardLogger(save_dir='lightning_logs', name=f'DeepNeuron', default_hp_metric=False)\n",
    " \n",
    "# Specifying training run\n",
    "trainer = Trainer(accelerator = \"gpu\", devices = 1, max_epochs = 400, logger=logger, callbacks=[EarlyStopping(monitor=\"validation_loss\", mode=\"min\", patience=10)])\n",
    " \n",
    "# Actual code that will start the training of the model\n",
    "trainer.fit(model, train_loader, test_loader)\n",
    "\n",
    "## Save final model\n",
    "torch.save(model.state_dict(), out_file)"
   ]
  },
  {
   "cell_type": "markdown",
   "id": "0491bbae",
   "metadata": {},
   "source": [
    "## 2. Test model accuracy on prediction sequences"
   ]
  },
  {
   "cell_type": "code",
   "execution_count": 5,
   "id": "21d15dc4",
   "metadata": {},
   "outputs": [
    {
     "name": "stdout",
     "output_type": "stream",
     "text": [
      "(508,) (1991,)\n",
      "ROC AUC: 0.92\n",
      "CB_Exc  0.92\n",
      "HB_Exc  0.91\n",
      "Tel_Exc  0.88\n",
      "MB_Inh  0.95\n",
      "Purkinje  0.96\n"
     ]
    },
    {
     "data": {
      "text/plain": [
       "<matplotlib.legend.Legend at 0x14a602f283d0>"
      ]
     },
     "execution_count": 5,
     "metadata": {},
     "output_type": "execute_result"
    },
    {
     "data": {
      "image/png": "[encoded data removed]",
      "text/plain": [
       "<Figure size 20000x300 with 2 Axes>"
      ]
     },
     "metadata": {},
     "output_type": "display_data"
    },
    {
     "data": {
      "image/png": "[encoded data removed]",
      "text/plain": [
       "<Figure size 300x300 with 1 Axes>"
      ]
     },
     "metadata": {},
     "output_type": "display_data"
    }
   ],
   "source": [
    "from sklearn.metrics import roc_auc_score, roc_curve\n",
    "import glob    \n",
    "\n",
    "## Cluster names and corresponding colors\n",
    "colors = [\"#B36305\", \"#E32017\", \"#FFD300\", \"#00782A\",\n",
    "          \"#F3A9BB\"]\n",
    "ClusterNames = ['CB_Exc', 'HB_Exc', 'Tel_Exc', 'MB_Inh', 'Purkinje'] ## Corresponding to the labels\n",
    "data_dir = '../files/torch_data/'\n",
    "    \n",
    "pred_set = torch.load(os.path.join(data_dir, 'pred_set.pt'))\n",
    "pred_sequences = torch.tensor(np.array([x[0].numpy() for x in pred_set]))\n",
    "true_labels = np.array([x[1] for x in pred_set]).astype(int)\n",
    "names = np.load(os.path.join(data_dir, 'pred_names.npy'))\n",
    "    \n",
    "## CNN\n",
    "N = 200\n",
    "n_class = len(np.unique(true_labels))\n",
    "\n",
    "model = ConvolutionalClassificationModel(n_celltypes=5, length=401)\n",
    "model.load_state_dict(torch.load('../fetalxbrainxmultiomics/deepNeuron/DeepNeuron.pth'))\n",
    "model.eval()\n",
    "\n",
    "CNN_pred = model(pred_sequences).detach().numpy()\n",
    "\n",
    "fig, ax = plt.subplots(2,1, figsize=(N,3))\n",
    "im1 = np.zeros((CNN_pred.shape[1],N))\n",
    "for i in range(N):\n",
    "    im1[true_labels[i],i]=1\n",
    "ax[0].imshow(im1)\n",
    "ax[0].set_title('True')\n",
    "ax[0].set_yticks(np.arange(CNN_pred.shape[1]), labels = ClusterNames, fontsize=6)\n",
    "ax[0].set_xticks(np.arange(0,N,10))\n",
    "ax[1].imshow(CNN_pred[:N,:].T)\n",
    "ax[1].set_title('Pred.')\n",
    "ax[1].set_yticks(np.arange(CNN_pred.shape[1]), labels = ClusterNames, fontsize=6)\n",
    "ax[1].set_xticks(np.arange(0,N,10))\n",
    "plt.tight_layout()\n",
    "\n",
    "preds = np.argmax(CNN_pred,axis=1)\n",
    "x = np.where(true_labels != preds)[0]\n",
    "incorrect = names[x]\n",
    "\n",
    "print(incorrect.shape, preds.shape)\n",
    "\n",
    "onehot_label = np.eye(n_class)[true_labels].astype(int)\n",
    "print(f'ROC AUC: {roc_auc_score(np.eye(n_class)[true_labels].astype(int), CNN_pred):.2f}')\n",
    "for i in range(n_class):\n",
    "    x = true_labels == i\n",
    "    print(f'{ClusterNames[i]}  {roc_auc_score(x, CNN_pred[:,i].flatten()):.2f}')\n",
    "    \n",
    "plt.figure(figsize=(3,3))\n",
    "plt.plot([1,0],[1,0], linestyle='--', c='black', lw=1)\n",
    "plt.gca().set_aspect('equal')\n",
    "for i in range(5):\n",
    "    fpr, tpr, thresholds = roc_curve(true_labels==i, CNN_pred[:,i])\n",
    "    plt.plot(fpr, tpr, label = ClusterNames[i], color=colors[i], lw=1, alpha=.75)\n",
    "plt.xlabel('False Positive Rate')\n",
    "plt.ylabel('True Positive Rate')\n",
    "plt.legend(loc='lower right')"
   ]
  },
  {
   "cell_type": "markdown",
   "id": "25c58384",
   "metadata": {},
   "source": [
    "## 3. Calculate contribution scores"
   ]
  },
  {
   "cell_type": "markdown",
   "id": "27e07800",
   "metadata": {},
   "source": [
    "For more information on contribution scores check out [deeplift](https://github.com/kundajelab/deeplift).\n"
   ]
  },
  {
   "cell_type": "code",
   "execution_count": 6,
   "id": "f734707c",
   "metadata": {},
   "outputs": [
    {
     "name": "stderr",
     "output_type": "stream",
     "text": [
      "  0%|          | 0/100 [00:00<?, ?it/s]/home/camiel/anaconda3/envs/fetal_brain_multiomics/lib/python3.7/site-packages/captum/attr/_core/deep_lift.py:307: UserWarning: Setting forward, backward hooks and attributes on non-linear\n",
      "               activations. The hooks and attributes will be removed\n",
      "            after the attribution is finished\n",
      "  after the attribution is finished\"\"\"\n",
      "100%|██████████| 100/100 [07:21<00:00,  4.41s/it]\n"
     ]
    }
   ],
   "source": [
    "## For this example we only calculate the contribution scores for the first 100 prediction sequences. \n",
    "## For the best motif discovery results you should calculate the contributio score for as many of your sequences as you can (prediction, training, validation)\n",
    "\n",
    "N = 100\n",
    "\n",
    "contrib_scores, norm_scores = compute_contrib(model, pred_sequences[:N,:,:], true_labels[:N])\n",
    "\n",
    "## np.save(outdir + )"
   ]
  },
  {
   "cell_type": "code",
   "execution_count": null,
   "id": "350a1cd6",
   "metadata": {},
   "outputs": [
    {
     "name": "stderr",
     "output_type": "stream",
     "text": [
      " 85%|████████▌ | 85/100 [06:20<01:06,  4.46s/it]"
     ]
    }
   ],
   "source": [
    "## Hypothetical contribution scores can be calculated as follows\n",
    "\n",
    "hypo_contrib = compute_hypo_contrib(model, pred_sequences[:N,:,:], true_labels[:N])"
   ]
  },
  {
   "cell_type": "code",
   "execution_count": null,
   "id": "9f5334d1",
   "metadata": {},
   "outputs": [],
   "source": [
    "## Below we plot the contribution score, normalized contribution and hypothetical contribution for the first sequence\n",
    "\n",
    "from deeplift.visualization import viz_sequence\n",
    "viz_sequence.plot_weights(contrib_scores[0], subticks_frequency=20)\n",
    "viz_sequence.plot_weights(norm_scores[0], subticks_frequency=20)\n",
    "viz_sequence.plot_weights(hypo_contrib[0], subticks_frequency=20)"
   ]
  },
  {
   "cell_type": "markdown",
   "id": "c5a3bd85",
   "metadata": {},
   "source": [
    "## TF-MoDisco"
   ]
  },
  {
   "cell_type": "markdown",
   "id": "304e3c03",
   "metadata": {},
   "source": [
    "We have used the original TF-MoDisco implementation for the work in the paper, however we recommend using the updated ['lite' version](https://github.com/jmschrei/tfmodisco-lite) as it is more user friendly (with pattern matching!) and contains some useful bugfixes. To use the version we applied go to the [original repository](https://github.com/kundajelab/tfmodisco). I also recommend the notebooks in this repository for more details on hit scoring etc.\n",
    "\n",
    "For completion's sake I added the script we used to run modisco below (run as 'python modisco.py {cluster_id}').\n",
    "\n",
    "Before running the script make sure you have all the contribution and hypothetical scores in a folder. This will likely take a long time. \n",
    "Due to the file size restrictions of github the training files in torch data had to be compressed. Please use gunzip before continueing. "
   ]
  },
  {
   "cell_type": "code",
   "execution_count": null,
   "id": "c0cfc04f",
   "metadata": {},
   "outputs": [],
   "source": [
    "data_dir = '../files/torch_data/'\n",
    "\n",
    "files = [os.path.join(data_dir, f'{x}_set.pt') for x in ['pred', 'test', 'training']] ## ['pred', 'test', 'training']\n",
    "sequences, true_labels = [], []\n",
    "for f in files:\n",
    "    data = torch.load(f)\n",
    "    sequences.append(torch.tensor(np.array([x[0].numpy() for x in data])))\n",
    "    true_labels.append(np.array([x[1] for x in data]).astype(int))\n",
    "sequences = np.array([x for s in sequences for x in s])\n",
    "true_labels = np.array([x for s in true_labels for x in s])\n",
    "\n",
    "contrib_scores, norm_scores = compute_contrib(model, pred_sequences, true_labels)\n",
    "np.save('all_contrib.npy',contrib_scores)\n",
    "np.save('all_norm.npy',norm_scores)\n",
    "\n",
    "hypo_contrib = compute_hypo_contrib(model, pred_sequences, true_labels)\n",
    "np.save('all_hyp_contrib.npy',hypo_contrib)\n"
   ]
  },
  {
   "cell_type": "code",
   "execution_count": null,
   "id": "f7279573",
   "metadata": {},
   "outputs": [],
   "source": [
    "import matplotlib.pyplot as plt\n",
    "\n",
    "from typing import List\n",
    "import sys, os\n",
    "\n",
    "import numpy as np\n",
    "import multiprocessing as mp\n",
    "import torch\n",
    "import h5py\n",
    "\n",
    "import modisco\n",
    "import pickle as pkl\n",
    "import logging\n",
    "\n",
    "proj_dir = '' ## Fill in the location of your project folder\n",
    "data_dir = os.path.join(proj_dir, 'torch_data/')\n",
    "outdir = 'output'\n",
    "\n",
    "selected = int(sys.argv[1]) ## Supply the script with the cluster ID to use\n",
    "\n",
    "files = [os.path.join(data_dir, f'{x}_set.pt') for x in ['pred', 'test', 'training']] ## ['pred', 'test', 'training']\n",
    "sequences, true_labels = [], []\n",
    "for f in files:\n",
    "    data = torch.load(f)\n",
    "    sequences.append(torch.tensor(np.array([x[0].numpy() for x in data])))\n",
    "    true_labels.append(np.array([x[1] for x in data]).astype(int))\n",
    "sequences = np.array([x for s in sequences for x in s])\n",
    "true_labels = np.array([x for s in true_labels for x in s])\n",
    "\n",
    "## Load contributions and hypothetical contributions\n",
    "contribs = np.load(os.path.join(proj_dir, 'all_contrib.npy')).transpose((0,2,1))\n",
    "hypotheticals = np.load(os.path.join(proj_dir, 'all_hyp_contrib.npy')).transpose((0,2,1))\n",
    "\n",
    "onehot_data = [x.numpy() for x in sequences]\n",
    "\n",
    "task_to_scores = []\n",
    "task_to_hyp_scores = []\n",
    "onehot_data = []\n",
    "    \n",
    "sel = true_labels == selected\n",
    "logging.info(np.sum(sel))\n",
    "task_to_scores.append({'task0':np.array([x for x in contribs[sel]])})\n",
    "task_to_hyp_scores.append({'task0':np.array([x for x in hypotheticals[sel]])})\n",
    "onehot_data.append(np.array([x.numpy().T for x in sequences[sel]]))\n",
    "    \n",
    "null_per_pos_scores = modisco.coordproducers.LaplaceNullDist(num_to_samp=5000)\n",
    "# for i in range(0,len(np.unique(true_labels))):\n",
    "hdf5_file = os.path.join(outdir, f\"results_{selected}.hdf5\")\n",
    "if not os.path.isfile(hdf5_file):\n",
    "    logging.info(f'### processing {selected} ###')\n",
    "    tfmodisco_results = modisco.tfmodisco_workflow.workflow.TfModiscoWorkflow(\n",
    "        #Slight modifications from the default settings\n",
    "        sliding_window_size=15, ## 15, 21\n",
    "        flank_size=5, ## 5, 10\n",
    "        target_seqlet_fdr=0.15,\n",
    "        seqlets_to_patterns_factory=\n",
    "        modisco.tfmodisco_workflow.seqlets_to_patterns.TfModiscoSeqletsToPatternsFactory(\n",
    "            #Note: as of version 0.5.6.0, it's possible to use the results of a motif discovery\n",
    "            # software like MEME to improve the TF-MoDISco clustering. To use the meme-based\n",
    "            # initialization, you would specify the initclusterer_factory as shown in the\n",
    "            # commented-out code below:\n",
    "            #initclusterer_factory=modisco.clusterinit.memeinit.MemeInitClustererFactory(    \n",
    "            #    meme_command=\"meme\", base_outdir=\"meme_out\",            \n",
    "            #    max_num_seqlets_to_use=10000, nmotifs=10, n_jobs=1),\n",
    "            trim_to_window_size=15, ## 15, 30\n",
    "            initial_flank_to_add=5, ## 5, 10\n",
    "            final_flank_to_add=5, ## 5, 0\n",
    "            final_min_cluster_size=30, ## 60\n",
    "            use_pynnd=False, #use_pynnd=True can be used for better\n",
    "            # n_cores=mp.cpu_count())\n",
    "            n_cores=1)\n",
    "        )(\n",
    "        task_names=[f\"task0\"],#, \"task1\", \"task2\"],\n",
    "        contrib_scores=task_to_scores[0],\n",
    "        hypothetical_contribs=task_to_hyp_scores[0],\n",
    "        one_hot=onehot_data[0],\n",
    "        null_per_pos_scores=null_per_pos_scores)\n",
    "\n",
    "    pkl.dump(tfmodisco_results, open(os.path.join(outdir, f'{selected}.pkl'), 'wb'))\n",
    "    grp = h5py.File(hdf5_file, \"w\")\n",
    "    tfmodisco_results.save_hdf5(grp)"
   ]
  }
 ],
 "metadata": {
  "kernelspec": {
   "display_name": "fetal brain multiomics",
   "language": "python",
   "name": "fetal_brain_multiomics"
  },
  "language_info": {
   "codemirror_mode": {
    "name": "ipython",
    "version": 3
   },
   "file_extension": ".py",
   "mimetype": "text/x-python",
   "name": "python",
   "nbconvert_exporter": "python",
   "pygments_lexer": "ipython3",
   "version": "3.7.12"
  }
 },
 "nbformat": 4,
 "nbformat_minor": 5
}
